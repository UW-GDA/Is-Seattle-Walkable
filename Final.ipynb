{
 "cells": [
  {
   "cell_type": "code",
   "execution_count": 27,
   "id": "6d895456-f3e4-433e-8ea6-6cdc809c561a",
   "metadata": {},
   "outputs": [],
   "source": [
    "import numpy as np\n",
    "import matplotlib.pyplot as plt\n",
    "import pandas as pd\n",
    "import geopandas as gpd\n",
    "from shapely.geometry import Point, Polygon\n",
    "import seaborn as sns"
   ]
  },
  {
   "cell_type": "code",
   "execution_count": 28,
   "id": "1484d3f8-2ab1-4477-a34c-e4b19e8a5fbf",
   "metadata": {},
   "outputs": [
    {
     "ename": "ModuleNotFoundError",
     "evalue": "No module named 'arcpy'",
     "output_type": "error",
     "traceback": [
      "\u001b[0;31m---------------------------------------------------------------------------\u001b[0m",
      "\u001b[0;31mModuleNotFoundError\u001b[0m                       Traceback (most recent call last)",
      "\u001b[0;32m/tmp/ipykernel_150/3709015372.py\u001b[0m in \u001b[0;36m<module>\u001b[0;34m\u001b[0m\n\u001b[0;32m----> 1\u001b[0;31m \u001b[0;32mimport\u001b[0m \u001b[0marcpy\u001b[0m\u001b[0;34m\u001b[0m\u001b[0;34m\u001b[0m\u001b[0m\n\u001b[0m",
      "\u001b[0;31mModuleNotFoundError\u001b[0m: No module named 'arcpy'"
     ]
    }
   ],
   "source": [
    "import arcpy"
   ]
  },
  {
   "cell_type": "markdown",
   "id": "162dada5-af00-457b-8308-362a90832923",
   "metadata": {},
   "source": [
    "## Loading and Reprojecting Data"
   ]
  },
  {
   "cell_type": "markdown",
   "id": "16e04b1d-bf7d-4532-ac67-0379dece0a8d",
   "metadata": {},
   "source": [
    "### Parks"
   ]
  },
  {
   "cell_type": "code",
   "execution_count": 2,
   "id": "e24b3ff2-f952-4265-9959-28a4e8cc1cad",
   "metadata": {},
   "outputs": [
    {
     "data": {
      "text/html": [
       "<div>\n",
       "<style scoped>\n",
       "    .dataframe tbody tr th:only-of-type {\n",
       "        vertical-align: middle;\n",
       "    }\n",
       "\n",
       "    .dataframe tbody tr th {\n",
       "        vertical-align: top;\n",
       "    }\n",
       "\n",
       "    .dataframe thead th {\n",
       "        text-align: right;\n",
       "    }\n",
       "</style>\n",
       "<table border=\"1\" class=\"dataframe\">\n",
       "  <thead>\n",
       "    <tr style=\"text-align: right;\">\n",
       "      <th></th>\n",
       "      <th>NAME</th>\n",
       "      <th>geometry</th>\n",
       "    </tr>\n",
       "  </thead>\n",
       "  <tbody>\n",
       "    <tr>\n",
       "      <th>0</th>\n",
       "      <td>12TH AVE SQUARE PARK</td>\n",
       "      <td>POLYGON ((-122.31625 47.60714, -122.31625 47.6...</td>\n",
       "    </tr>\n",
       "    <tr>\n",
       "      <th>1</th>\n",
       "      <td>14TH AVENUE NW BOAT RAMP</td>\n",
       "      <td>POLYGON ((-122.37380 47.66139, -122.37380 47.6...</td>\n",
       "    </tr>\n",
       "    <tr>\n",
       "      <th>2</th>\n",
       "      <td>17TH AVENUE NE CENTERSTRIP</td>\n",
       "      <td>MULTIPOLYGON (((-122.30952 47.66651, -122.3095...</td>\n",
       "    </tr>\n",
       "    <tr>\n",
       "      <th>3</th>\n",
       "      <td>3001 E MADISON</td>\n",
       "      <td>POLYGON ((-122.29280 47.62507, -122.29283 47.6...</td>\n",
       "    </tr>\n",
       "    <tr>\n",
       "      <th>4</th>\n",
       "      <td>48TH AVE SW/SW CHARLESTOWN ST</td>\n",
       "      <td>POLYGON ((-122.39356 47.56986, -122.39356 47.5...</td>\n",
       "    </tr>\n",
       "  </tbody>\n",
       "</table>\n",
       "</div>"
      ],
      "text/plain": [
       "                            NAME  \\\n",
       "0           12TH AVE SQUARE PARK   \n",
       "1       14TH AVENUE NW BOAT RAMP   \n",
       "2     17TH AVENUE NE CENTERSTRIP   \n",
       "3                 3001 E MADISON   \n",
       "4  48TH AVE SW/SW CHARLESTOWN ST   \n",
       "\n",
       "                                            geometry  \n",
       "0  POLYGON ((-122.31625 47.60714, -122.31625 47.6...  \n",
       "1  POLYGON ((-122.37380 47.66139, -122.37380 47.6...  \n",
       "2  MULTIPOLYGON (((-122.30952 47.66651, -122.3095...  \n",
       "3  POLYGON ((-122.29280 47.62507, -122.29283 47.6...  \n",
       "4  POLYGON ((-122.39356 47.56986, -122.39356 47.5...  "
      ]
     },
     "execution_count": 2,
     "metadata": {},
     "output_type": "execute_result"
    }
   ],
   "source": [
    "parks_gdf = gpd.read_file('Final Data/seattle_parks')\n",
    "parks_gdf.head()"
   ]
  },
  {
   "cell_type": "code",
   "execution_count": 3,
   "id": "254ae0f7-6bae-4659-a28b-bd101cb0cf14",
   "metadata": {},
   "outputs": [],
   "source": [
    "#Use centroid and project\n",
    "parks_gdf_proj = parks_gdf.to_crs('EPSG:32610')\n",
    "parks_gdf_proj['geometry'] = parks_gdf_proj['geometry'].centroid"
   ]
  },
  {
   "cell_type": "markdown",
   "id": "3325e413-9bb2-4128-a95c-2ed616de00c9",
   "metadata": {},
   "source": [
    "### Retail"
   ]
  },
  {
   "cell_type": "code",
   "execution_count": 4,
   "id": "f583e723-031a-4dca-80e0-f71a1ae6d615",
   "metadata": {},
   "outputs": [
    {
     "data": {
      "text/html": [
       "<div>\n",
       "<style scoped>\n",
       "    .dataframe tbody tr th:only-of-type {\n",
       "        vertical-align: middle;\n",
       "    }\n",
       "\n",
       "    .dataframe tbody tr th {\n",
       "        vertical-align: top;\n",
       "    }\n",
       "\n",
       "    .dataframe thead th {\n",
       "        text-align: right;\n",
       "    }\n",
       "</style>\n",
       "<table border=\"1\" class=\"dataframe\">\n",
       "  <thead>\n",
       "    <tr style=\"text-align: right;\">\n",
       "      <th></th>\n",
       "      <th>shop</th>\n",
       "      <th>name</th>\n",
       "      <th>geometry</th>\n",
       "    </tr>\n",
       "  </thead>\n",
       "  <tbody>\n",
       "    <tr>\n",
       "      <th>0</th>\n",
       "      <td>books</td>\n",
       "      <td>University Book Store</td>\n",
       "      <td>POINT (-122.31298 47.66040)</td>\n",
       "    </tr>\n",
       "    <tr>\n",
       "      <th>1</th>\n",
       "      <td>car_repair</td>\n",
       "      <td>Midas</td>\n",
       "      <td>POINT (-122.30147 47.70906)</td>\n",
       "    </tr>\n",
       "    <tr>\n",
       "      <th>2</th>\n",
       "      <td>supermarket</td>\n",
       "      <td>Grocery Outlet</td>\n",
       "      <td>POINT (-122.29521 47.72164)</td>\n",
       "    </tr>\n",
       "    <tr>\n",
       "      <th>3</th>\n",
       "      <td>car</td>\n",
       "      <td>Pierre Chevrolet</td>\n",
       "      <td>POINT (-122.30051 47.71129)</td>\n",
       "    </tr>\n",
       "    <tr>\n",
       "      <th>4</th>\n",
       "      <td>bakery</td>\n",
       "      <td>Cupcake Royale</td>\n",
       "      <td>POINT (-122.38656 47.56122)</td>\n",
       "    </tr>\n",
       "  </tbody>\n",
       "</table>\n",
       "</div>"
      ],
      "text/plain": [
       "          shop                   name                     geometry\n",
       "0        books  University Book Store  POINT (-122.31298 47.66040)\n",
       "1   car_repair                  Midas  POINT (-122.30147 47.70906)\n",
       "2  supermarket         Grocery Outlet  POINT (-122.29521 47.72164)\n",
       "3          car       Pierre Chevrolet  POINT (-122.30051 47.71129)\n",
       "4       bakery         Cupcake Royale  POINT (-122.38656 47.56122)"
      ]
     },
     "execution_count": 4,
     "metadata": {},
     "output_type": "execute_result"
    }
   ],
   "source": [
    "retail_gdf= gpd.read_file('Final Data/seattle_retail')\n",
    "retail_gdf.head()"
   ]
  },
  {
   "cell_type": "code",
   "execution_count": 5,
   "id": "90c519e2-0427-4763-a3e7-157846db16f9",
   "metadata": {},
   "outputs": [],
   "source": [
    "retail_gdf_proj = retail_gdf.to_crs('EPSG:32610')\n",
    "retail_gdf_proj['geometry'] = retail_gdf_proj['geometry'].centroid"
   ]
  },
  {
   "cell_type": "markdown",
   "id": "bdb9e05b-d761-449c-bd47-96a0dd74ef66",
   "metadata": {},
   "source": [
    "### Culture, Leisure, Amenities"
   ]
  },
  {
   "cell_type": "code",
   "execution_count": 6,
   "id": "2ec4309e-b858-48fb-a0cf-f258477d2cff",
   "metadata": {},
   "outputs": [
    {
     "data": {
      "text/html": [
       "<div>\n",
       "<style scoped>\n",
       "    .dataframe tbody tr th:only-of-type {\n",
       "        vertical-align: middle;\n",
       "    }\n",
       "\n",
       "    .dataframe tbody tr th {\n",
       "        vertical-align: top;\n",
       "    }\n",
       "\n",
       "    .dataframe thead th {\n",
       "        text-align: right;\n",
       "    }\n",
       "</style>\n",
       "<table border=\"1\" class=\"dataframe\">\n",
       "  <thead>\n",
       "    <tr style=\"text-align: right;\">\n",
       "      <th></th>\n",
       "      <th>amenity</th>\n",
       "      <th>name</th>\n",
       "      <th>geometry</th>\n",
       "    </tr>\n",
       "  </thead>\n",
       "  <tbody>\n",
       "    <tr>\n",
       "      <th>0</th>\n",
       "      <td>slipway</td>\n",
       "      <td>None</td>\n",
       "      <td>POINT (-122.27676 47.57115)</td>\n",
       "    </tr>\n",
       "    <tr>\n",
       "      <th>1</th>\n",
       "      <td>slipway</td>\n",
       "      <td>None</td>\n",
       "      <td>POINT (-122.29946 47.64835)</td>\n",
       "    </tr>\n",
       "    <tr>\n",
       "      <th>2</th>\n",
       "      <td>slipway</td>\n",
       "      <td>Ferdinand Street Boat Launch</td>\n",
       "      <td>POINT (-122.26151 47.55734)</td>\n",
       "    </tr>\n",
       "    <tr>\n",
       "      <th>3</th>\n",
       "      <td>slipway</td>\n",
       "      <td>None</td>\n",
       "      <td>POINT (-122.39745 47.54028)</td>\n",
       "    </tr>\n",
       "    <tr>\n",
       "      <th>4</th>\n",
       "      <td>picnic_table</td>\n",
       "      <td>None</td>\n",
       "      <td>POINT (-122.33925 47.69838)</td>\n",
       "    </tr>\n",
       "  </tbody>\n",
       "</table>\n",
       "</div>"
      ],
      "text/plain": [
       "        amenity                          name                     geometry\n",
       "0       slipway                          None  POINT (-122.27676 47.57115)\n",
       "1       slipway                          None  POINT (-122.29946 47.64835)\n",
       "2       slipway  Ferdinand Street Boat Launch  POINT (-122.26151 47.55734)\n",
       "3       slipway                          None  POINT (-122.39745 47.54028)\n",
       "4  picnic_table                          None  POINT (-122.33925 47.69838)"
      ]
     },
     "execution_count": 6,
     "metadata": {},
     "output_type": "execute_result"
    }
   ],
   "source": [
    "cla_gdf = gpd.read_file('Final Data/culture_leisure_amenities')\n",
    "cla_gdf.head()"
   ]
  },
  {
   "cell_type": "code",
   "execution_count": 7,
   "id": "5ef001d6-66ab-410c-8af2-e8fe0336d078",
   "metadata": {},
   "outputs": [
    {
     "data": {
      "text/plain": [
       "array(['Point', 'Polygon', 'LineString', 'MultiPolygon'], dtype=object)"
      ]
     },
     "execution_count": 7,
     "metadata": {},
     "output_type": "execute_result"
    }
   ],
   "source": [
    "cla_gdf_proj = cla_gdf.to_crs('EPSG:32610')\n",
    "cla_gdf_proj.geometry.geom_type.unique()"
   ]
  },
  {
   "cell_type": "code",
   "execution_count": 18,
   "id": "3e355456-393a-4a78-871f-2dc3c139aacf",
   "metadata": {},
   "outputs": [],
   "source": [
    "cla_gdf_proj = cla_gdf_proj[cla_gdf_proj.geometry.geom_type != 'LineString']"
   ]
  },
  {
   "cell_type": "code",
   "execution_count": 19,
   "id": "09cc141a-f963-4412-a35c-5e7ca3723b2d",
   "metadata": {},
   "outputs": [],
   "source": [
    "cla_gdf_proj['geometry'] = cla_gdf_proj['geometry'].centroid"
   ]
  },
  {
   "cell_type": "markdown",
   "id": "0ef15e56-8877-40e0-b0eb-047af7f749f6",
   "metadata": {},
   "source": [
    "### Transit"
   ]
  },
  {
   "cell_type": "code",
   "execution_count": 9,
   "id": "8eb8992d-e1e5-4b61-8b50-086be0b73f7d",
   "metadata": {},
   "outputs": [
    {
     "data": {
      "text/html": [
       "<div>\n",
       "<style scoped>\n",
       "    .dataframe tbody tr th:only-of-type {\n",
       "        vertical-align: middle;\n",
       "    }\n",
       "\n",
       "    .dataframe tbody tr th {\n",
       "        vertical-align: top;\n",
       "    }\n",
       "\n",
       "    .dataframe thead th {\n",
       "        text-align: right;\n",
       "    }\n",
       "</style>\n",
       "<table border=\"1\" class=\"dataframe\">\n",
       "  <thead>\n",
       "    <tr style=\"text-align: right;\">\n",
       "      <th></th>\n",
       "      <th>OBJECTID</th>\n",
       "      <th>CHANGE_NUM</th>\n",
       "      <th>MINOR_CHANGE_NUM</th>\n",
       "      <th>ACCESSIBILITY_DECAL</th>\n",
       "      <th>ACCESSORY_SIGN</th>\n",
       "      <th>STOP_ID</th>\n",
       "      <th>TRANS_LINK_ID</th>\n",
       "      <th>STOP_STATUS</th>\n",
       "      <th>STOP_TYPE</th>\n",
       "      <th>AUTH_CODE</th>\n",
       "      <th>...</th>\n",
       "      <th>ON_STREET_NAME</th>\n",
       "      <th>ROUTESIGN</th>\n",
       "      <th>ROUTESIGN_OWNER</th>\n",
       "      <th>SIGN_MOUNTING_DIR</th>\n",
       "      <th>SIGNPOST</th>\n",
       "      <th>SIGNPOST_ANCHOR</th>\n",
       "      <th>SCHEDULE_HOLDER</th>\n",
       "      <th>NUM_SHELTERS</th>\n",
       "      <th>GISOBJID</th>\n",
       "      <th>geometry</th>\n",
       "    </tr>\n",
       "  </thead>\n",
       "  <tbody>\n",
       "    <tr>\n",
       "      <th>0</th>\n",
       "      <td>20215</td>\n",
       "      <td>150</td>\n",
       "      <td>0</td>\n",
       "      <td>UNK</td>\n",
       "      <td>Unknown</td>\n",
       "      <td>26150</td>\n",
       "      <td>79389</td>\n",
       "      <td>CLO</td>\n",
       "      <td>REG</td>\n",
       "      <td>UNK</td>\n",
       "      <td>...</td>\n",
       "      <td>37th Ave NE</td>\n",
       "      <td>Unknown</td>\n",
       "      <td>UNK</td>\n",
       "      <td>None</td>\n",
       "      <td>Unknown</td>\n",
       "      <td>Unknown</td>\n",
       "      <td>UNK</td>\n",
       "      <td>0</td>\n",
       "      <td>100015310.0</td>\n",
       "      <td>POINT (-122.28871 47.72321)</td>\n",
       "    </tr>\n",
       "    <tr>\n",
       "      <th>1</th>\n",
       "      <td>5310</td>\n",
       "      <td>149</td>\n",
       "      <td>10</td>\n",
       "      <td>UNK</td>\n",
       "      <td>Unknown</td>\n",
       "      <td>26150</td>\n",
       "      <td>79389</td>\n",
       "      <td>CLO</td>\n",
       "      <td>REG</td>\n",
       "      <td>UNK</td>\n",
       "      <td>...</td>\n",
       "      <td>37th Ave NE</td>\n",
       "      <td>Unknown</td>\n",
       "      <td>UNK</td>\n",
       "      <td>None</td>\n",
       "      <td>Unknown</td>\n",
       "      <td>Unknown</td>\n",
       "      <td>UNK</td>\n",
       "      <td>0</td>\n",
       "      <td>100015310.0</td>\n",
       "      <td>POINT (-122.28871 47.72321)</td>\n",
       "    </tr>\n",
       "    <tr>\n",
       "      <th>2</th>\n",
       "      <td>13882</td>\n",
       "      <td>149</td>\n",
       "      <td>10</td>\n",
       "      <td>YES</td>\n",
       "      <td>None</td>\n",
       "      <td>76730</td>\n",
       "      <td>18073</td>\n",
       "      <td>ACT</td>\n",
       "      <td>REG</td>\n",
       "      <td>SEA</td>\n",
       "      <td>...</td>\n",
       "      <td>Lake City Way NE</td>\n",
       "      <td>A2 &lt;=6 rts</td>\n",
       "      <td>KCM</td>\n",
       "      <td>Away</td>\n",
       "      <td>Light</td>\n",
       "      <td>Unknown</td>\n",
       "      <td>Double</td>\n",
       "      <td>1</td>\n",
       "      <td>8074.0</td>\n",
       "      <td>POINT (-122.29289 47.72333)</td>\n",
       "    </tr>\n",
       "    <tr>\n",
       "      <th>3</th>\n",
       "      <td>15134</td>\n",
       "      <td>150</td>\n",
       "      <td>0</td>\n",
       "      <td>YES</td>\n",
       "      <td>None</td>\n",
       "      <td>76730</td>\n",
       "      <td>18073</td>\n",
       "      <td>ACT</td>\n",
       "      <td>REG</td>\n",
       "      <td>SEA</td>\n",
       "      <td>...</td>\n",
       "      <td>Lake City Way NE</td>\n",
       "      <td>A2 &lt;=6 rts</td>\n",
       "      <td>KCM</td>\n",
       "      <td>Away</td>\n",
       "      <td>Light</td>\n",
       "      <td>Unknown</td>\n",
       "      <td>Double</td>\n",
       "      <td>1</td>\n",
       "      <td>8074.0</td>\n",
       "      <td>POINT (-122.29289 47.72333)</td>\n",
       "    </tr>\n",
       "    <tr>\n",
       "      <th>4</th>\n",
       "      <td>22355</td>\n",
       "      <td>150</td>\n",
       "      <td>0</td>\n",
       "      <td>UNK</td>\n",
       "      <td>Unknown</td>\n",
       "      <td>38659</td>\n",
       "      <td>29894</td>\n",
       "      <td>ACT</td>\n",
       "      <td>LAY</td>\n",
       "      <td>UNK</td>\n",
       "      <td>...</td>\n",
       "      <td>35th Ave NE</td>\n",
       "      <td>Unknown</td>\n",
       "      <td>UNK</td>\n",
       "      <td>None</td>\n",
       "      <td>Unknown</td>\n",
       "      <td>Unknown</td>\n",
       "      <td>UNK</td>\n",
       "      <td>0</td>\n",
       "      <td>100016122.0</td>\n",
       "      <td>POINT (-122.29095 47.72339)</td>\n",
       "    </tr>\n",
       "  </tbody>\n",
       "</table>\n",
       "<p>5 rows × 57 columns</p>\n",
       "</div>"
      ],
      "text/plain": [
       "   OBJECTID  CHANGE_NUM  MINOR_CHANGE_NUM ACCESSIBILITY_DECAL ACCESSORY_SIGN  \\\n",
       "0     20215         150                 0                 UNK        Unknown   \n",
       "1      5310         149                10                 UNK        Unknown   \n",
       "2     13882         149                10                 YES           None   \n",
       "3     15134         150                 0                 YES           None   \n",
       "4     22355         150                 0                 UNK        Unknown   \n",
       "\n",
       "   STOP_ID  TRANS_LINK_ID STOP_STATUS STOP_TYPE AUTH_CODE  ...  \\\n",
       "0    26150          79389         CLO       REG       UNK  ...   \n",
       "1    26150          79389         CLO       REG       UNK  ...   \n",
       "2    76730          18073         ACT       REG       SEA  ...   \n",
       "3    76730          18073         ACT       REG       SEA  ...   \n",
       "4    38659          29894         ACT       LAY       UNK  ...   \n",
       "\n",
       "     ON_STREET_NAME   ROUTESIGN ROUTESIGN_OWNER SIGN_MOUNTING_DIR SIGNPOST  \\\n",
       "0       37th Ave NE     Unknown             UNK              None  Unknown   \n",
       "1       37th Ave NE     Unknown             UNK              None  Unknown   \n",
       "2  Lake City Way NE  A2 <=6 rts             KCM              Away    Light   \n",
       "3  Lake City Way NE  A2 <=6 rts             KCM              Away    Light   \n",
       "4       35th Ave NE     Unknown             UNK              None  Unknown   \n",
       "\n",
       "  SIGNPOST_ANCHOR SCHEDULE_HOLDER  NUM_SHELTERS     GISOBJID  \\\n",
       "0         Unknown             UNK             0  100015310.0   \n",
       "1         Unknown             UNK             0  100015310.0   \n",
       "2         Unknown          Double             1       8074.0   \n",
       "3         Unknown          Double             1       8074.0   \n",
       "4         Unknown             UNK             0  100016122.0   \n",
       "\n",
       "                      geometry  \n",
       "0  POINT (-122.28871 47.72321)  \n",
       "1  POINT (-122.28871 47.72321)  \n",
       "2  POINT (-122.29289 47.72333)  \n",
       "3  POINT (-122.29289 47.72333)  \n",
       "4  POINT (-122.29095 47.72339)  \n",
       "\n",
       "[5 rows x 57 columns]"
      ]
     },
     "execution_count": 9,
     "metadata": {},
     "output_type": "execute_result"
    }
   ],
   "source": [
    "transit_gdf= gpd.read_file('Final Data/Seattle_Transit_Stops')\n",
    "transit_gdf.head()"
   ]
  },
  {
   "cell_type": "code",
   "execution_count": 10,
   "id": "9e1ee90a-17c3-4c4d-a337-497998b51cd4",
   "metadata": {},
   "outputs": [],
   "source": [
    "transit_gdf_proj = transit_gdf.to_crs('EPSG:32610')"
   ]
  },
  {
   "cell_type": "markdown",
   "id": "49ac3509-4032-45ea-8632-1054176e2641",
   "metadata": {
    "tags": []
   },
   "source": [
    "### Sidwalks"
   ]
  },
  {
   "cell_type": "code",
   "execution_count": 11,
   "id": "b55fc691-e2f7-47ae-984f-776fac54094a",
   "metadata": {},
   "outputs": [
    {
     "data": {
      "text/html": [
       "<div>\n",
       "<style scoped>\n",
       "    .dataframe tbody tr th:only-of-type {\n",
       "        vertical-align: middle;\n",
       "    }\n",
       "\n",
       "    .dataframe tbody tr th {\n",
       "        vertical-align: top;\n",
       "    }\n",
       "\n",
       "    .dataframe thead th {\n",
       "        text-align: right;\n",
       "    }\n",
       "</style>\n",
       "<table border=\"1\" class=\"dataframe\">\n",
       "  <thead>\n",
       "    <tr style=\"text-align: right;\">\n",
       "      <th></th>\n",
       "      <th>geometry</th>\n",
       "    </tr>\n",
       "  </thead>\n",
       "  <tbody>\n",
       "    <tr>\n",
       "      <th>0</th>\n",
       "      <td>LINESTRING (-122.37013 47.70341, -122.37136 47...</td>\n",
       "    </tr>\n",
       "    <tr>\n",
       "      <th>1</th>\n",
       "      <td>LINESTRING (-122.37373 47.65556, -122.37448 47...</td>\n",
       "    </tr>\n",
       "    <tr>\n",
       "      <th>2</th>\n",
       "      <td>LINESTRING (-122.37171 47.65470, -122.37232 47...</td>\n",
       "    </tr>\n",
       "    <tr>\n",
       "      <th>3</th>\n",
       "      <td>LINESTRING (-122.37152 47.65484, -122.37214 47...</td>\n",
       "    </tr>\n",
       "    <tr>\n",
       "      <th>4</th>\n",
       "      <td>LINESTRING (-122.36763 47.65230, -122.37005 47...</td>\n",
       "    </tr>\n",
       "  </tbody>\n",
       "</table>\n",
       "</div>"
      ],
      "text/plain": [
       "                                            geometry\n",
       "0  LINESTRING (-122.37013 47.70341, -122.37136 47...\n",
       "1  LINESTRING (-122.37373 47.65556, -122.37448 47...\n",
       "2  LINESTRING (-122.37171 47.65470, -122.37232 47...\n",
       "3  LINESTRING (-122.37152 47.65484, -122.37214 47...\n",
       "4  LINESTRING (-122.36763 47.65230, -122.37005 47..."
      ]
     },
     "execution_count": 11,
     "metadata": {},
     "output_type": "execute_result"
    }
   ],
   "source": [
    "sidewalks_gdf= gpd.read_file('Final Data/seattle_sidewalks')\n",
    "sidewalks_gdf.head()"
   ]
  },
  {
   "cell_type": "code",
   "execution_count": 21,
   "id": "c140dbf6-01af-4da0-accf-f59c3e9a3e05",
   "metadata": {},
   "outputs": [],
   "source": [
    "sidewalks_gdf_proj = sidewalks_gdf.to_crs('EPSG:32610')"
   ]
  },
  {
   "cell_type": "markdown",
   "id": "5c019106-29f1-422b-a6d0-086613f40b71",
   "metadata": {
    "tags": []
   },
   "source": [
    "## Analysis"
   ]
  },
  {
   "cell_type": "markdown",
   "id": "460c4c87-9091-4224-a3bc-ed1fb1a81c12",
   "metadata": {
    "tags": []
   },
   "source": [
    "### Parks"
   ]
  },
  {
   "cell_type": "code",
   "execution_count": 12,
   "id": "5e4bab2b-83c2-40b5-884a-fc0e2de3572f",
   "metadata": {},
   "outputs": [
    {
     "name": "stderr",
     "output_type": "stream",
     "text": [
      "/srv/conda/envs/notebook/lib/python3.9/site-packages/seaborn/_decorators.py:36: FutureWarning: Pass the following variable as a keyword arg: y. From version 0.12, the only valid positional argument will be `data`, and passing other arguments without an explicit keyword will result in an error or misinterpretation.\n",
      "  warnings.warn(\n"
     ]
    },
    {
     "data": {
      "text/plain": [
       "<AxesSubplot:>"
      ]
     },
     "execution_count": 12,
     "metadata": {},
     "output_type": "execute_result"
    },
    {
     "data": {
      "image/png": "[encoded data removed]",
      "text/plain": [
       "<Figure size 432x288 with 1 Axes>"
      ]
     },
     "metadata": {
      "needs_background": "light"
     },
     "output_type": "display_data"
    }
   ],
   "source": [
    "sns.kdeplot(parks_gdf_proj.geometry.x,parks_gdf_proj.geometry.y,shade=True, cmap='viridis')"
   ]
  },
  {
   "cell_type": "markdown",
   "id": "a475c169-4d46-4c67-aa4d-21fc862cbb10",
   "metadata": {
    "tags": []
   },
   "source": [
    "### Retail"
   ]
  },
  {
   "cell_type": "code",
   "execution_count": 13,
   "id": "c38baacc-4855-4e6d-b530-32a3d7712ed7",
   "metadata": {},
   "outputs": [
    {
     "name": "stderr",
     "output_type": "stream",
     "text": [
      "/srv/conda/envs/notebook/lib/python3.9/site-packages/seaborn/_decorators.py:36: FutureWarning: Pass the following variable as a keyword arg: y. From version 0.12, the only valid positional argument will be `data`, and passing other arguments without an explicit keyword will result in an error or misinterpretation.\n",
      "  warnings.warn(\n"
     ]
    },
    {
     "data": {
      "text/plain": [
       "<AxesSubplot:>"
      ]
     },
     "execution_count": 13,
     "metadata": {},
     "output_type": "execute_result"
    },
    {
     "data": {
      "image/png": "[encoded data removed]",
      "text/plain": [
       "<Figure size 432x288 with 1 Axes>"
      ]
     },
     "metadata": {
      "needs_background": "light"
     },
     "output_type": "display_data"
    }
   ],
   "source": [
    "sns.kdeplot(retail_gdf_proj.geometry.x,retail_gdf_proj.geometry.y,shade=True, cmap='viridis')"
   ]
  },
  {
   "cell_type": "markdown",
   "id": "56adbfdf-578e-47ae-bcd2-66632d715b96",
   "metadata": {
    "tags": []
   },
   "source": [
    "### Transit"
   ]
  },
  {
   "cell_type": "code",
   "execution_count": 15,
   "id": "1dba4369-1671-45ec-bb04-d74364fa35ef",
   "metadata": {},
   "outputs": [
    {
     "name": "stderr",
     "output_type": "stream",
     "text": [
      "/srv/conda/envs/notebook/lib/python3.9/site-packages/seaborn/_decorators.py:36: FutureWarning: Pass the following variable as a keyword arg: y. From version 0.12, the only valid positional argument will be `data`, and passing other arguments without an explicit keyword will result in an error or misinterpretation.\n",
      "  warnings.warn(\n"
     ]
    },
    {
     "data": {
      "text/plain": [
       "<AxesSubplot:>"
      ]
     },
     "execution_count": 15,
     "metadata": {},
     "output_type": "execute_result"
    },
    {
     "data": {
      "image/png": "[encoded data removed]",
      "text/plain": [
       "<Figure size 432x288 with 1 Axes>"
      ]
     },
     "metadata": {
      "needs_background": "light"
     },
     "output_type": "display_data"
    }
   ],
   "source": [
    "sns.kdeplot(transit_gdf_proj.geometry.x,transit_gdf_proj.geometry.y,shade=True, cmap='viridis')"
   ]
  },
  {
   "cell_type": "markdown",
   "id": "6904da24-ee9c-4908-ab4e-6d205de4a6be",
   "metadata": {
    "tags": []
   },
   "source": [
    "### Amenities, Culture, and Entertainment"
   ]
  },
  {
   "cell_type": "code",
   "execution_count": 20,
   "id": "6b6b90d8-347d-4375-9b3e-3e9ecace8a2e",
   "metadata": {},
   "outputs": [
    {
     "name": "stderr",
     "output_type": "stream",
     "text": [
      "/srv/conda/envs/notebook/lib/python3.9/site-packages/seaborn/_decorators.py:36: FutureWarning: Pass the following variable as a keyword arg: y. From version 0.12, the only valid positional argument will be `data`, and passing other arguments without an explicit keyword will result in an error or misinterpretation.\n",
      "  warnings.warn(\n"
     ]
    },
    {
     "data": {
      "text/plain": [
       "<AxesSubplot:>"
      ]
     },
     "execution_count": 20,
     "metadata": {},
     "output_type": "execute_result"
    },
    {
     "data": {
      "image/png": "[encoded data removed]",
      "text/plain": [
       "<Figure size 432x288 with 1 Axes>"
      ]
     },
     "metadata": {
      "needs_background": "light"
     },
     "output_type": "display_data"
    }
   ],
   "source": [
    "sns.kdeplot(cla_gdf_proj.geometry.x,cla_gdf_proj.geometry.y,shade=True, cmap='viridis')"
   ]
  },
  {
   "cell_type": "markdown",
   "id": "0827e7d7-bcb6-448c-99f8-652ccbc6933b",
   "metadata": {},
   "source": [
    "### Pedestrian Network"
   ]
  },
  {
   "cell_type": "code",
   "execution_count": null,
   "id": "641b7915-a898-4e79-afc8-fe0204e79a37",
   "metadata": {},
   "outputs": [],
   "source": []
  }
 ],
 "metadata": {
  "kernelspec": {
   "display_name": "Python 3 (ipykernel)",
   "language": "python",
   "name": "python3"
  },
  "language_info": {
   "codemirror_mode": {
    "name": "ipython",
    "version": 3
   },
   "file_extension": ".py",
   "mimetype": "text/x-python",
   "name": "python",
   "nbconvert_exporter": "python",
   "pygments_lexer": "ipython3",
   "version": "3.9.7"
  }
 },
 "nbformat": 4,
 "nbformat_minor": 5
}
