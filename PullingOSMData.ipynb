{
 "cells": [
  {
   "cell_type": "markdown",
   "id": "b30ba078-c2ec-488b-b404-150b33cbf766",
   "metadata": {},
   "source": [
    "Pulling data from OpenStreetMaps.org using osmxtract"
   ]
  },
  {
   "cell_type": "code",
   "execution_count": 1,
   "id": "0cea1569-8bc5-487d-b2c6-0f1cafe32044",
   "metadata": {},
   "outputs": [],
   "source": [
    "from geopy.geocoders import Nominatim\n",
    "geolocator = Nominatim(user_agent=\"Is_Seattle_Walkable\")"
   ]
  },
  {
   "cell_type": "code",
   "execution_count": 2,
   "id": "0813a678-2c2f-43ee-939d-7ba6326721c2",
   "metadata": {},
   "outputs": [
    {
     "name": "stdout",
     "output_type": "stream",
     "text": [
      "Collecting osmnx\n",
      "  Using cached osmnx-1.1.2-py2.py3-none-any.whl (95 kB)\n",
      "Requirement already satisfied: numpy>=1.21 in /srv/conda/envs/notebook/lib/python3.9/site-packages (from osmnx) (1.21.4)\n",
      "Requirement already satisfied: Shapely<2.0,>=1.7 in /srv/conda/envs/notebook/lib/python3.9/site-packages (from osmnx) (1.8.0)\n",
      "Requirement already satisfied: geopandas>=0.10 in /srv/conda/envs/notebook/lib/python3.9/site-packages (from osmnx) (0.10.2)\n",
      "Requirement already satisfied: Rtree>=0.9 in /srv/conda/envs/notebook/lib/python3.9/site-packages (from osmnx) (0.9.7)\n",
      "Requirement already satisfied: pyproj>=3.2 in /srv/conda/envs/notebook/lib/python3.9/site-packages (from osmnx) (3.3.0)\n",
      "Requirement already satisfied: requests>=2.26 in /srv/conda/envs/notebook/lib/python3.9/site-packages (from osmnx) (2.26.0)\n",
      "Requirement already satisfied: pandas>=1.3 in /srv/conda/envs/notebook/lib/python3.9/site-packages (from osmnx) (1.3.4)\n",
      "Requirement already satisfied: matplotlib>=3.4 in /srv/conda/envs/notebook/lib/python3.9/site-packages (from osmnx) (3.5.0)\n",
      "Requirement already satisfied: networkx>=2.6 in /srv/conda/envs/notebook/lib/python3.9/site-packages (from osmnx) (2.6.3)\n",
      "Requirement already satisfied: fiona>=1.8 in /srv/conda/envs/notebook/lib/python3.9/site-packages (from geopandas>=0.10->osmnx) (1.8.20)\n",
      "Requirement already satisfied: cycler>=0.10 in /srv/conda/envs/notebook/lib/python3.9/site-packages (from matplotlib>=3.4->osmnx) (0.11.0)\n",
      "Requirement already satisfied: pyparsing>=2.2.1 in /srv/conda/envs/notebook/lib/python3.9/site-packages (from matplotlib>=3.4->osmnx) (3.0.6)\n",
      "Requirement already satisfied: pillow>=6.2.0 in /srv/conda/envs/notebook/lib/python3.9/site-packages (from matplotlib>=3.4->osmnx) (8.4.0)\n",
      "Requirement already satisfied: kiwisolver>=1.0.1 in /srv/conda/envs/notebook/lib/python3.9/site-packages (from matplotlib>=3.4->osmnx) (1.3.2)\n",
      "Requirement already satisfied: python-dateutil>=2.7 in /srv/conda/envs/notebook/lib/python3.9/site-packages (from matplotlib>=3.4->osmnx) (2.8.2)\n",
      "Requirement already satisfied: packaging>=20.0 in /srv/conda/envs/notebook/lib/python3.9/site-packages (from matplotlib>=3.4->osmnx) (21.3)\n",
      "Requirement already satisfied: fonttools>=4.22.0 in /srv/conda/envs/notebook/lib/python3.9/site-packages (from matplotlib>=3.4->osmnx) (4.28.3)\n",
      "Requirement already satisfied: pytz>=2017.3 in /srv/conda/envs/notebook/lib/python3.9/site-packages (from pandas>=1.3->osmnx) (2021.3)\n",
      "Requirement already satisfied: certifi in /srv/conda/envs/notebook/lib/python3.9/site-packages (from pyproj>=3.2->osmnx) (2021.10.8)\n",
      "Requirement already satisfied: charset-normalizer~=2.0.0 in /srv/conda/envs/notebook/lib/python3.9/site-packages (from requests>=2.26->osmnx) (2.0.0)\n",
      "Requirement already satisfied: urllib3<1.27,>=1.21.1 in /srv/conda/envs/notebook/lib/python3.9/site-packages (from requests>=2.26->osmnx) (1.26.7)\n",
      "Requirement already satisfied: idna<4,>=2.5 in /srv/conda/envs/notebook/lib/python3.9/site-packages (from requests>=2.26->osmnx) (3.1)\n",
      "Requirement already satisfied: setuptools in /srv/conda/envs/notebook/lib/python3.9/site-packages (from fiona>=1.8->geopandas>=0.10->osmnx) (59.1.1)\n",
      "Requirement already satisfied: attrs>=17 in /srv/conda/envs/notebook/lib/python3.9/site-packages (from fiona>=1.8->geopandas>=0.10->osmnx) (21.2.0)\n",
      "Requirement already satisfied: six>=1.7 in /srv/conda/envs/notebook/lib/python3.9/site-packages (from fiona>=1.8->geopandas>=0.10->osmnx) (1.16.0)\n",
      "Requirement already satisfied: click-plugins>=1.0 in /srv/conda/envs/notebook/lib/python3.9/site-packages (from fiona>=1.8->geopandas>=0.10->osmnx) (1.1.1)\n",
      "Requirement already satisfied: munch in /srv/conda/envs/notebook/lib/python3.9/site-packages (from fiona>=1.8->geopandas>=0.10->osmnx) (2.5.0)\n",
      "Requirement already satisfied: cligj>=0.5 in /srv/conda/envs/notebook/lib/python3.9/site-packages (from fiona>=1.8->geopandas>=0.10->osmnx) (0.7.2)\n",
      "Requirement already satisfied: click>=4.0 in /srv/conda/envs/notebook/lib/python3.9/site-packages (from fiona>=1.8->geopandas>=0.10->osmnx) (7.1.2)\n",
      "Installing collected packages: osmnx\n",
      "Successfully installed osmnx-1.1.2\n"
     ]
    }
   ],
   "source": [
    "!pip install osmnx"
   ]
  },
  {
   "cell_type": "code",
   "execution_count": 27,
   "id": "3a7b2a1c-2281-43eb-b50b-f4adecbb699a",
   "metadata": {},
   "outputs": [],
   "source": [
    "# import packages\n",
    "import pandas as pd\n",
    "import json\n",
    "import osmnx as ox\n",
    "import requests\n",
    "import random\n",
    "import time"
   ]
  },
  {
   "cell_type": "code",
   "execution_count": 28,
   "id": "8b60129e-4ec1-4a2a-b271-5b6821243042",
   "metadata": {},
   "outputs": [
    {
     "name": "stderr",
     "output_type": "stream",
     "text": [
      "/srv/conda/envs/notebook/lib/python3.9/site-packages/osmnx/geometries.py:805: ShapelyDeprecationWarning: __len__ for multi-part geometries is deprecated and will be removed in Shapely 2.0. Check the length of the `geoms` property instead to get the  number of parts of a multi-part geometry.\n",
      "  for merged_outer_linestring in list(merged_outer_linestrings):\n",
      "/srv/conda/envs/notebook/lib/python3.9/site-packages/osmnx/geometries.py:805: ShapelyDeprecationWarning: Iteration over multi-part geometries is deprecated and will be removed in Shapely 2.0. Use the `geoms` property to access the constituent parts of a multi-part geometry.\n",
      "  for merged_outer_linestring in list(merged_outer_linestrings):\n"
     ]
    }
   ],
   "source": [
    "leisure_gdf = ox.geometries_from_place('Seattle, Washington',{'leisure':True})\n",
    "                                      "
   ]
  },
  {
   "cell_type": "code",
   "execution_count": 29,
   "id": "35f21977-bb04-4156-9394-d788fd3fcd27",
   "metadata": {},
   "outputs": [
    {
     "data": {
      "text/plain": [
       "array(['slipway', 'picnic_table', 'fitness_centre', 'playground',\n",
       "       'fishing', 'marina', 'dance', 'sports_centre', 'amusement_arcade',\n",
       "       'social_club', 'swimming_pool', 'escape_game', 'martial_arts',\n",
       "       'art_gallery', 'games', 'table', 'dog_park', 'pitch', 'park',\n",
       "       'fitness_station', 'hackerspace', 'bleachers', 'garden', 'firepit',\n",
       "       'outdoor_seating', 'sports_hall', 'golf_course', 'stadium', 'farm',\n",
       "       'nature_reserve', 'boating', 'splash_pool', 'ice_rink',\n",
       "       'community_centre', 'bowling_alley', 'swimming_area', 'spraypark',\n",
       "       'proposed', 'horse_riding', 'common', 'miniature_golf',\n",
       "       'disc_golf_course', 'practice_tent', 'sauna', 'schoolyard',\n",
       "       'track'], dtype=object)"
      ]
     },
     "execution_count": 29,
     "metadata": {},
     "output_type": "execute_result"
    }
   ],
   "source": [
    "leisure_gdf.leisure.unique()"
   ]
  },
  {
   "cell_type": "code",
   "execution_count": 30,
   "id": "01a44399-6ea2-43cc-9bf7-834b48f102bc",
   "metadata": {},
   "outputs": [
    {
     "data": {
      "text/plain": [
       "(3090, 193)"
      ]
     },
     "execution_count": 30,
     "metadata": {},
     "output_type": "execute_result"
    }
   ],
   "source": [
    "leisure_gdf.shape"
   ]
  },
  {
   "cell_type": "code",
   "execution_count": 31,
   "id": "3c2b6f8d-737a-4c83-a111-2ac99338283c",
   "metadata": {},
   "outputs": [
    {
     "name": "stdout",
     "output_type": "stream",
     "text": [
      "['source', 'geometry', 'created_by', 'leisure', 'seamark:information', 'seamark:small_craft_facility:category', 'seamark:type', 'direction', 'highway', 'barrier', 'access', 'bicycle', 'foot', 'name', 'addr:housenumber', 'addr:street', 'gnis:county_id', 'gnis:feature_id', 'gnis:created', 'gnis:state_id', 'ele', 'fee', 'opening_hours', 'website', 'artwork_type', 'description', 'location', 'tourism', 'sport', 'addr:city', 'addr:postcode', 'operator', 'fixme', 'horse', 'brand', 'brand:wikidata', 'brand:wikipedia', 'wheelchair', 'addr:state', 'seamark:harbour:category', 'addr:unit', 'covered', 'capacity', 'checked_exists:date', 'source:addr', 'addr:country', 'level', 'phone', 'amusement_arcade', 'contact:facebook', 'contact:instagram', 'contact:twitter', 'amenity', 'contact:website', 'dance:teaching', 'source:addr:id', 'disused:name', 'disused:shop', 'contact:email', 'contact:phone', 'contact:pinterest', 'contact:youtube', 'indoor', 'fax', 'shop', 'alt_name', 'office', 'wikidata', 'wikipedia', 'addr:housename', 'check_date', 'note', 'motor_vehicle', 'branch', 'natural', 'lit', 'surface', 'backrest', 'material', 'name:en', 'ref', 'noname', 'dance:style', 'playground', 'building', 'internet_access', 'internet_access:fee', 'power_supply', 'sanitary_dump_station', 'name:etymology', 'email', 'official_name', 'opening_hours:covid19', 'sauna', 'bench', 'colour', 'heating', 'outdoor_seating', 'seasonal', 'website_1', 'subject:wikidata', 'seats', 'fitness_station', 'hoops', 'nodes', 'name:ko', 'area', 'postal_code', 'building:colour', 'building:part', 'height', 'old_name', 'toilets:wheelchair', 'layer', 'religion', 'landuse', 'name:zh', 'name:zh-Hans', 'name:zh-Hant', 'addr:full', 'emergency', 'dog', 'name_1', 'name_2', 'boundary', 'man_made', 'golf:course', 'golf:par', 'source_ref', 'place', 'wetland', 'floating', 'loc_name', 'wikimedia_commons', 'pedestrians', 'name:etymology:wikidata', 'alt_name:zh', 'alt_name:zh-Hans', 'alt_name:zh-Hant', 'contact:yelp', 'nudism', 'golf', 'start_date', 'fence_type', 'description:en', 'lanes', 'operator:type', 'gnis:county_name', 'designation', 'name:etymology:wikipedia', 'short_name', 'alt_name_1', 'building:levels', 'building:levels:underground', 'roof:shape', 'playground:theme', 'swimming_pool', 'garden:style', 'park', 'proposed', 'proposed_1', 'industrial', 'max_age', 'min_age', 'historic', 'artist:wikidata', 'artist:wikipedia', 'artist_name', 'landcover', 'playground:structure', 'playground:swing', 'waterway', 'construction', 'surface:condition', 'garden:type', 'name:vi', 'bar', 'weather_protection', 'smoking', 'operator:wikidata', 'automatic_pitch', 'service', 'ways', 'type', 'length', 'vhf_channel', 'dogs', 'name:lut', 'basin', 'landuse_1', 'sport_1', 'owner', 'name:pronunciation']\n"
     ]
    }
   ],
   "source": [
    "print(leisure_gdf.columns.tolist())"
   ]
  },
  {
   "cell_type": "code",
   "execution_count": 45,
   "id": "2de421ad-fe02-415c-b6a3-a8b279e162e6",
   "metadata": {},
   "outputs": [],
   "source": [
    "leisure_gdf = leisure_gdf.reset_index().loc[: , ['leisure','geometry','name']]"
   ]
  },
  {
   "cell_type": "code",
   "execution_count": 8,
   "id": "f1cd0420-e1a3-4fac-925f-2c5007a1dd98",
   "metadata": {},
   "outputs": [
    {
     "name": "stderr",
     "output_type": "stream",
     "text": [
      "/srv/conda/envs/notebook/lib/python3.9/site-packages/osmnx/geometries.py:805: ShapelyDeprecationWarning: __len__ for multi-part geometries is deprecated and will be removed in Shapely 2.0. Check the length of the `geoms` property instead to get the  number of parts of a multi-part geometry.\n",
      "  for merged_outer_linestring in list(merged_outer_linestrings):\n",
      "/srv/conda/envs/notebook/lib/python3.9/site-packages/osmnx/geometries.py:805: ShapelyDeprecationWarning: Iteration over multi-part geometries is deprecated and will be removed in Shapely 2.0. Use the `geoms` property to access the constituent parts of a multi-part geometry.\n",
      "  for merged_outer_linestring in list(merged_outer_linestrings):\n"
     ]
    }
   ],
   "source": [
    "amenity_gdf = ox.geometries_from_place('Seattle, Washington',{'amenity': ['theatre', \n",
    "                                                                          'bar',\n",
    "                                                                          'cafe',\n",
    "                                                                          'pub',\n",
    "                                                                          'restaurant',\n",
    "                                                                          'school',\n",
    "                                                                          'library',\n",
    "                                                                          'cinema', \n",
    "                                                                          'fountain',\n",
    "                                                                          'arts_centre',\n",
    "                                                                          'community_centre',\n",
    "                                                                          'events_venue']})"
   ]
  },
  {
   "cell_type": "code",
   "execution_count": 9,
   "id": "d2eff7a3-1980-4991-ba0e-1a47328428cb",
   "metadata": {},
   "outputs": [
    {
     "data": {
      "text/plain": [
       "(3023, 267)"
      ]
     },
     "execution_count": 9,
     "metadata": {},
     "output_type": "execute_result"
    }
   ],
   "source": [
    "amenity_gdf.shape"
   ]
  },
  {
   "cell_type": "code",
   "execution_count": 49,
   "id": "5730ac02-6f59-47e3-ae97-706f073c2af3",
   "metadata": {},
   "outputs": [],
   "source": [
    "amenity_gdf = amenity_gdf.reset_index().loc[: , ['amenity','geometry','name']]"
   ]
  },
  {
   "cell_type": "code",
   "execution_count": 50,
   "id": "38f650f6-4b25-42cf-a2bc-fd9b6fa2e913",
   "metadata": {},
   "outputs": [
    {
     "data": {
      "text/plain": [
       "array(['cinema', 'theatre', 'restaurant', 'pub', 'school', 'cafe',\n",
       "       'arts_centre', 'library', 'community_centre', 'bar', 'fountain',\n",
       "       'events_venue'], dtype=object)"
      ]
     },
     "execution_count": 50,
     "metadata": {},
     "output_type": "execute_result"
    }
   ],
   "source": [
    "amenity_gdf.amenity.unique()"
   ]
  },
  {
   "cell_type": "code",
   "execution_count": 52,
   "id": "71addd8f-6da9-4c5c-92c4-73fd2d3bf8aa",
   "metadata": {},
   "outputs": [
    {
     "data": {
      "text/plain": [
       "array(['slipway', 'picnic_table', 'fitness_centre', 'playground',\n",
       "       'fishing', 'marina', 'dance', 'sports_centre', 'amusement_arcade',\n",
       "       'social_club', 'swimming_pool', 'escape_game', 'martial_arts',\n",
       "       'art_gallery', 'games', 'table', 'dog_park', 'pitch', 'park',\n",
       "       'fitness_station', 'hackerspace', 'bleachers', 'garden', 'firepit',\n",
       "       'outdoor_seating', 'sports_hall', 'golf_course', 'stadium', 'farm',\n",
       "       'nature_reserve', 'boating', 'splash_pool', 'ice_rink',\n",
       "       'community_centre', 'bowling_alley', 'swimming_area', 'spraypark',\n",
       "       'proposed', 'horse_riding', 'common', 'miniature_golf',\n",
       "       'disc_golf_course', 'practice_tent', 'sauna', 'schoolyard',\n",
       "       'track'], dtype=object)"
      ]
     },
     "execution_count": 52,
     "metadata": {},
     "output_type": "execute_result"
    }
   ],
   "source": [
    "leisure_gdf.leisure.unique()"
   ]
  },
  {
   "cell_type": "code",
   "execution_count": 56,
   "id": "415b4982-c7a2-4aa4-935b-318c999592f0",
   "metadata": {},
   "outputs": [
    {
     "data": {
      "text/html": [
       "<div>\n",
       "<style scoped>\n",
       "    .dataframe tbody tr th:only-of-type {\n",
       "        vertical-align: middle;\n",
       "    }\n",
       "\n",
       "    .dataframe tbody tr th {\n",
       "        vertical-align: top;\n",
       "    }\n",
       "\n",
       "    .dataframe thead th {\n",
       "        text-align: right;\n",
       "    }\n",
       "</style>\n",
       "<table border=\"1\" class=\"dataframe\">\n",
       "  <thead>\n",
       "    <tr style=\"text-align: right;\">\n",
       "      <th></th>\n",
       "      <th>leisure</th>\n",
       "      <th>geometry</th>\n",
       "      <th>name</th>\n",
       "    </tr>\n",
       "  </thead>\n",
       "  <tbody>\n",
       "    <tr>\n",
       "      <th>4</th>\n",
       "      <td>picnic_table</td>\n",
       "      <td>POINT (-122.33925 47.69838)</td>\n",
       "      <td>NaN</td>\n",
       "    </tr>\n",
       "    <tr>\n",
       "      <th>5</th>\n",
       "      <td>picnic_table</td>\n",
       "      <td>POINT (-122.33917 47.69844)</td>\n",
       "      <td>NaN</td>\n",
       "    </tr>\n",
       "    <tr>\n",
       "      <th>8</th>\n",
       "      <td>picnic_table</td>\n",
       "      <td>POINT (-122.33788 47.69938)</td>\n",
       "      <td>NaN</td>\n",
       "    </tr>\n",
       "    <tr>\n",
       "      <th>9</th>\n",
       "      <td>picnic_table</td>\n",
       "      <td>POINT (-122.33807 47.69860)</td>\n",
       "      <td>NaN</td>\n",
       "    </tr>\n",
       "    <tr>\n",
       "      <th>10</th>\n",
       "      <td>picnic_table</td>\n",
       "      <td>POINT (-122.33821 47.69803)</td>\n",
       "      <td>NaN</td>\n",
       "    </tr>\n",
       "    <tr>\n",
       "      <th>...</th>\n",
       "      <td>...</td>\n",
       "      <td>...</td>\n",
       "      <td>...</td>\n",
       "    </tr>\n",
       "    <tr>\n",
       "      <th>3078</th>\n",
       "      <td>fitness_station</td>\n",
       "      <td>MULTIPOLYGON (((-122.36840 47.54603, -122.3683...</td>\n",
       "      <td>NaN</td>\n",
       "    </tr>\n",
       "    <tr>\n",
       "      <th>3079</th>\n",
       "      <td>track</td>\n",
       "      <td>POLYGON ((-122.33832 47.69586, -122.33833 47.6...</td>\n",
       "      <td>NaN</td>\n",
       "    </tr>\n",
       "    <tr>\n",
       "      <th>3083</th>\n",
       "      <td>track</td>\n",
       "      <td>POLYGON ((-122.29838 47.69120, -122.29770 47.6...</td>\n",
       "      <td>NaN</td>\n",
       "    </tr>\n",
       "    <tr>\n",
       "      <th>3084</th>\n",
       "      <td>track</td>\n",
       "      <td>POLYGON ((-122.29494 47.68116, -122.29494 47.6...</td>\n",
       "      <td>NaN</td>\n",
       "    </tr>\n",
       "    <tr>\n",
       "      <th>3087</th>\n",
       "      <td>garden</td>\n",
       "      <td>POLYGON ((-122.37300 47.62632, -122.37291 47.6...</td>\n",
       "      <td>NaN</td>\n",
       "    </tr>\n",
       "  </tbody>\n",
       "</table>\n",
       "<p>1366 rows × 3 columns</p>\n",
       "</div>"
      ],
      "text/plain": [
       "              leisure                                           geometry name\n",
       "4        picnic_table                        POINT (-122.33925 47.69838)  NaN\n",
       "5        picnic_table                        POINT (-122.33917 47.69844)  NaN\n",
       "8        picnic_table                        POINT (-122.33788 47.69938)  NaN\n",
       "9        picnic_table                        POINT (-122.33807 47.69860)  NaN\n",
       "10       picnic_table                        POINT (-122.33821 47.69803)  NaN\n",
       "...               ...                                                ...  ...\n",
       "3078  fitness_station  MULTIPOLYGON (((-122.36840 47.54603, -122.3683...  NaN\n",
       "3079            track  POLYGON ((-122.33832 47.69586, -122.33833 47.6...  NaN\n",
       "3083            track  POLYGON ((-122.29838 47.69120, -122.29770 47.6...  NaN\n",
       "3084            track  POLYGON ((-122.29494 47.68116, -122.29494 47.6...  NaN\n",
       "3087           garden  POLYGON ((-122.37300 47.62632, -122.37291 47.6...  NaN\n",
       "\n",
       "[1366 rows x 3 columns]"
      ]
     },
     "execution_count": 56,
     "metadata": {},
     "output_type": "execute_result"
    }
   ],
   "source": [
    "#cut down on redundant and unwalkable leisure activities ex. Boat Ramps\n",
    "leisure_walk = ['picnic_table', 'fitness_centre','fishing', 'marina', 'dance', \n",
    "                'sports_centre', 'amusement_arcade','social_club', 'swimming_pool', 'escape_game',\n",
    "                'martial_arts', 'art_gallery', 'games', 'table', 'fitness_station', \n",
    "                'hackerspace', 'garden', 'firepit', 'outdoor_seating', 'sports_hall',\n",
    "                'farm','nature_reserve', 'boating','ice_rink', 'community_centre', \n",
    "                'bowling_alley', 'swimming_area', 'spraypark','horse_riding', 'miniature_golf', \n",
    "                'practice_tent', 'sauna', 'track']\n",
    "leisure_ldf = leisure_gdf.loc[leisure_gdf['leisure'].isin(leisure_walk)]\n"
   ]
  },
  {
   "cell_type": "code",
   "execution_count": 59,
   "id": "b6afe73f-dc70-4fed-a59f-dfbe78006a52",
   "metadata": {},
   "outputs": [],
   "source": [
    "leisure_gdf = leisure_gdf.rename(columns={'leisure': 'amenity'})"
   ]
  },
  {
   "cell_type": "code",
   "execution_count": 64,
   "id": "b6f1a74b-1762-40fb-813e-1a581ae626dd",
   "metadata": {},
   "outputs": [],
   "source": [
    "cult_ent_gdf = pd.concat([leisure_gdf,amenity_gdf])"
   ]
  },
  {
   "cell_type": "code",
   "execution_count": 81,
   "id": "fe0c5905-7a20-4f8f-89e8-62c3c546dd56",
   "metadata": {},
   "outputs": [],
   "source": [
    "cult_ent_gdf.to_file('culture_leisure_amenities',driver='GeoJSON')"
   ]
  },
  {
   "cell_type": "markdown",
   "id": "1c345e45-1051-41a2-8d7d-fa8c4443229a",
   "metadata": {},
   "source": [
    "## Pulling Retail Data"
   ]
  },
  {
   "cell_type": "code",
   "execution_count": 66,
   "id": "624907ec-f100-481f-acfb-150751b70d72",
   "metadata": {},
   "outputs": [
    {
     "name": "stderr",
     "output_type": "stream",
     "text": [
      "/srv/conda/envs/notebook/lib/python3.9/site-packages/osmnx/geometries.py:805: ShapelyDeprecationWarning: __len__ for multi-part geometries is deprecated and will be removed in Shapely 2.0. Check the length of the `geoms` property instead to get the  number of parts of a multi-part geometry.\n",
      "  for merged_outer_linestring in list(merged_outer_linestrings):\n",
      "/srv/conda/envs/notebook/lib/python3.9/site-packages/osmnx/geometries.py:805: ShapelyDeprecationWarning: Iteration over multi-part geometries is deprecated and will be removed in Shapely 2.0. Use the `geoms` property to access the constituent parts of a multi-part geometry.\n",
      "  for merged_outer_linestring in list(merged_outer_linestrings):\n"
     ]
    }
   ],
   "source": [
    "retail_gdf = ox.geometries_from_place('Seattle, Washington',{'shop':True})"
   ]
  },
  {
   "cell_type": "code",
   "execution_count": 68,
   "id": "038baf5e-9e18-4eec-93e8-92e34e3bd533",
   "metadata": {},
   "outputs": [
    {
     "data": {
      "text/plain": [
       "(3524, 218)"
      ]
     },
     "execution_count": 68,
     "metadata": {},
     "output_type": "execute_result"
    }
   ],
   "source": [
    "retail_gdf.shape"
   ]
  },
  {
   "cell_type": "code",
   "execution_count": 71,
   "id": "d14c3104-827b-482d-9ee9-b8004e51cd35",
   "metadata": {},
   "outputs": [],
   "source": [
    "retail_gdf = retail_gdf.reset_index().loc[: , ['shop','geometry','name']]"
   ]
  },
  {
   "cell_type": "code",
   "execution_count": 72,
   "id": "d0f28458-e9d0-48e5-8f87-2ab739b5e3f5",
   "metadata": {},
   "outputs": [
    {
     "data": {
      "text/html": [
       "<div>\n",
       "<style scoped>\n",
       "    .dataframe tbody tr th:only-of-type {\n",
       "        vertical-align: middle;\n",
       "    }\n",
       "\n",
       "    .dataframe tbody tr th {\n",
       "        vertical-align: top;\n",
       "    }\n",
       "\n",
       "    .dataframe thead th {\n",
       "        text-align: right;\n",
       "    }\n",
       "</style>\n",
       "<table border=\"1\" class=\"dataframe\">\n",
       "  <thead>\n",
       "    <tr style=\"text-align: right;\">\n",
       "      <th></th>\n",
       "      <th>shop</th>\n",
       "      <th>geometry</th>\n",
       "      <th>name</th>\n",
       "    </tr>\n",
       "  </thead>\n",
       "  <tbody>\n",
       "    <tr>\n",
       "      <th>0</th>\n",
       "      <td>books</td>\n",
       "      <td>POINT (-122.31298 47.66040)</td>\n",
       "      <td>University Book Store</td>\n",
       "    </tr>\n",
       "    <tr>\n",
       "      <th>1</th>\n",
       "      <td>car_repair</td>\n",
       "      <td>POINT (-122.30147 47.70906)</td>\n",
       "      <td>Midas</td>\n",
       "    </tr>\n",
       "    <tr>\n",
       "      <th>2</th>\n",
       "      <td>supermarket</td>\n",
       "      <td>POINT (-122.29521 47.72164)</td>\n",
       "      <td>Grocery Outlet</td>\n",
       "    </tr>\n",
       "    <tr>\n",
       "      <th>3</th>\n",
       "      <td>car</td>\n",
       "      <td>POINT (-122.30051 47.71129)</td>\n",
       "      <td>Pierre Chevrolet</td>\n",
       "    </tr>\n",
       "    <tr>\n",
       "      <th>4</th>\n",
       "      <td>bakery</td>\n",
       "      <td>POINT (-122.38656 47.56122)</td>\n",
       "      <td>Cupcake Royale</td>\n",
       "    </tr>\n",
       "  </tbody>\n",
       "</table>\n",
       "</div>"
      ],
      "text/plain": [
       "          shop                     geometry                   name\n",
       "0        books  POINT (-122.31298 47.66040)  University Book Store\n",
       "1   car_repair  POINT (-122.30147 47.70906)                  Midas\n",
       "2  supermarket  POINT (-122.29521 47.72164)         Grocery Outlet\n",
       "3          car  POINT (-122.30051 47.71129)       Pierre Chevrolet\n",
       "4       bakery  POINT (-122.38656 47.56122)         Cupcake Royale"
      ]
     },
     "execution_count": 72,
     "metadata": {},
     "output_type": "execute_result"
    }
   ],
   "source": [
    "retail_gdf.head()"
   ]
  },
  {
   "cell_type": "code",
   "execution_count": 80,
   "id": "c9dba705-5190-4cae-be6b-e7a26930572a",
   "metadata": {},
   "outputs": [],
   "source": [
    "retail_gdf.to_file('seattle_retail',driver='GeoJSON')"
   ]
  },
  {
   "cell_type": "code",
   "execution_count": null,
   "id": "f101a8af-6d1b-473e-8723-adf44b75cb0d",
   "metadata": {},
   "outputs": [],
   "source": []
  }
 ],
 "metadata": {
  "kernelspec": {
   "display_name": "Python 3 (ipykernel)",
   "language": "python",
   "name": "python3"
  },
  "language_info": {
   "codemirror_mode": {
    "name": "ipython",
    "version": 3
   },
   "file_extension": ".py",
   "mimetype": "text/x-python",
   "name": "python",
   "nbconvert_exporter": "python",
   "pygments_lexer": "ipython3",
   "version": "3.9.7"
  }
 },
 "nbformat": 4,
 "nbformat_minor": 5
}
