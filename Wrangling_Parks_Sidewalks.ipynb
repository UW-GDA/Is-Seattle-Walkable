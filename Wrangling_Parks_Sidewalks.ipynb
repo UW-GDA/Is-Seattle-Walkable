{
 "cells": [
  {
   "cell_type": "code",
   "execution_count": 1,
   "id": "cf76283c-a2c4-4d66-88f8-802d7ee2d3f1",
   "metadata": {},
   "outputs": [],
   "source": [
    "import numpy as np\n",
    "import matplotlib.pyplot as plt\n",
    "import pandas as pd\n",
    "import geopandas as gpd\n",
    "from shapely.geometry import Point, Polygon"
   ]
  },
  {
   "cell_type": "code",
   "execution_count": 2,
   "id": "849f3a85-cdf7-4364-8b00-335f70be1e45",
   "metadata": {},
   "outputs": [],
   "source": [
    "parks_gdf = gpd.read_file('Seattle_Parks.geojson')"
   ]
  },
  {
   "cell_type": "code",
   "execution_count": 8,
   "id": "444ec4d3-91a4-471f-bebc-b862656696f5",
   "metadata": {},
   "outputs": [],
   "source": [
    "ped_gdf = gpd.read_file('Sidewalks.geojson')"
   ]
  },
  {
   "cell_type": "code",
   "execution_count": 7,
   "id": "08059f17-1c70-4fee-ada4-532c41be79b4",
   "metadata": {},
   "outputs": [
    {
     "data": {
      "text/html": [
       "<div>\n",
       "<style scoped>\n",
       "    .dataframe tbody tr th:only-of-type {\n",
       "        vertical-align: middle;\n",
       "    }\n",
       "\n",
       "    .dataframe tbody tr th {\n",
       "        vertical-align: top;\n",
       "    }\n",
       "\n",
       "    .dataframe thead th {\n",
       "        text-align: right;\n",
       "    }\n",
       "</style>\n",
       "<table border=\"1\" class=\"dataframe\">\n",
       "  <thead>\n",
       "    <tr style=\"text-align: right;\">\n",
       "      <th></th>\n",
       "      <th>OBJECTID</th>\n",
       "      <th>NAME</th>\n",
       "      <th>PMA</th>\n",
       "      <th>PARKSBND_AREA</th>\n",
       "      <th>GLOBALID</th>\n",
       "      <th>SHAPE_Length</th>\n",
       "      <th>SHAPE_Area</th>\n",
       "      <th>geometry</th>\n",
       "    </tr>\n",
       "  </thead>\n",
       "  <tbody>\n",
       "    <tr>\n",
       "      <th>0</th>\n",
       "      <td>1</td>\n",
       "      <td>12TH AVE SQUARE PARK</td>\n",
       "      <td>4467</td>\n",
       "      <td>7316.172948</td>\n",
       "      <td>{AE241324-AFE9-4547-9EDB-62D4B0F7A0FA}</td>\n",
       "      <td>342.909025</td>\n",
       "      <td>7316.143683</td>\n",
       "      <td>POLYGON ((-122.31625 47.60714, -122.31625 47.6...</td>\n",
       "    </tr>\n",
       "    <tr>\n",
       "      <th>1</th>\n",
       "      <td>2</td>\n",
       "      <td>14TH AVENUE NW BOAT RAMP</td>\n",
       "      <td>4010</td>\n",
       "      <td>27888.351315</td>\n",
       "      <td>{89299145-B23A-4EDE-B1E5-B577868BF60C}</td>\n",
       "      <td>758.646958</td>\n",
       "      <td>27888.239762</td>\n",
       "      <td>POLYGON ((-122.37380 47.66139, -122.37380 47.6...</td>\n",
       "    </tr>\n",
       "    <tr>\n",
       "      <th>2</th>\n",
       "      <td>3</td>\n",
       "      <td>17TH AVENUE NE CENTERSTRIP</td>\n",
       "      <td>4160</td>\n",
       "      <td>71950.878767</td>\n",
       "      <td>{8EDD427F-3581-4366-A04E-271B8567F929}</td>\n",
       "      <td>5902.227161</td>\n",
       "      <td>71950.590966</td>\n",
       "      <td>MULTIPOLYGON (((-122.30952 47.66651, -122.3095...</td>\n",
       "    </tr>\n",
       "    <tr>\n",
       "      <th>3</th>\n",
       "      <td>4</td>\n",
       "      <td>3001 E MADISON</td>\n",
       "      <td>296</td>\n",
       "      <td>14679.930267</td>\n",
       "      <td>{950F7FC4-29A7-4232-B4A5-2C441AD9B7F8}</td>\n",
       "      <td>578.567011</td>\n",
       "      <td>14679.871548</td>\n",
       "      <td>POLYGON ((-122.29280 47.62507, -122.29283 47.6...</td>\n",
       "    </tr>\n",
       "    <tr>\n",
       "      <th>4</th>\n",
       "      <td>5</td>\n",
       "      <td>48TH AVE SW/SW CHARLESTOWN ST</td>\n",
       "      <td>4590</td>\n",
       "      <td>14467.911693</td>\n",
       "      <td>{16DA0F5B-E8C1-4B5B-B42C-98D46B457DCF}</td>\n",
       "      <td>481.835246</td>\n",
       "      <td>14467.853821</td>\n",
       "      <td>POLYGON ((-122.39356 47.56986, -122.39356 47.5...</td>\n",
       "    </tr>\n",
       "  </tbody>\n",
       "</table>\n",
       "</div>"
      ],
      "text/plain": [
       "   OBJECTID                           NAME   PMA  PARKSBND_AREA  \\\n",
       "0         1           12TH AVE SQUARE PARK  4467    7316.172948   \n",
       "1         2       14TH AVENUE NW BOAT RAMP  4010   27888.351315   \n",
       "2         3     17TH AVENUE NE CENTERSTRIP  4160   71950.878767   \n",
       "3         4                 3001 E MADISON   296   14679.930267   \n",
       "4         5  48TH AVE SW/SW CHARLESTOWN ST  4590   14467.911693   \n",
       "\n",
       "                                 GLOBALID  SHAPE_Length    SHAPE_Area  \\\n",
       "0  {AE241324-AFE9-4547-9EDB-62D4B0F7A0FA}    342.909025   7316.143683   \n",
       "1  {89299145-B23A-4EDE-B1E5-B577868BF60C}    758.646958  27888.239762   \n",
       "2  {8EDD427F-3581-4366-A04E-271B8567F929}   5902.227161  71950.590966   \n",
       "3  {950F7FC4-29A7-4232-B4A5-2C441AD9B7F8}    578.567011  14679.871548   \n",
       "4  {16DA0F5B-E8C1-4B5B-B42C-98D46B457DCF}    481.835246  14467.853821   \n",
       "\n",
       "                                            geometry  \n",
       "0  POLYGON ((-122.31625 47.60714, -122.31625 47.6...  \n",
       "1  POLYGON ((-122.37380 47.66139, -122.37380 47.6...  \n",
       "2  MULTIPOLYGON (((-122.30952 47.66651, -122.3095...  \n",
       "3  POLYGON ((-122.29280 47.62507, -122.29283 47.6...  \n",
       "4  POLYGON ((-122.39356 47.56986, -122.39356 47.5...  "
      ]
     },
     "execution_count": 7,
     "metadata": {},
     "output_type": "execute_result"
    }
   ],
   "source": [
    "parks_gdf.head()"
   ]
  },
  {
   "cell_type": "code",
   "execution_count": 19,
   "id": "ddc7d74d-72dc-49e7-9f87-34f57e7f4171",
   "metadata": {},
   "outputs": [],
   "source": [
    "parks_gdf = parks_gdf.loc[: , ['geometry','NAME']]"
   ]
  },
  {
   "cell_type": "code",
   "execution_count": 10,
   "id": "88d25334-a435-45b1-9c5f-198c6e41cc0f",
   "metadata": {},
   "outputs": [
    {
     "data": {
      "text/plain": [
       "Index(['OBJECTID', 'COMPKEY', 'COMPTYPE', 'SEGKEY', 'UNITID', 'UNITTYPE',\n",
       "       'UNITDESC', 'ADDBY', 'ADDDTTM', 'ASBLT', 'CONDITION',\n",
       "       'CONDITION_ASSESSMENT_DATE', 'CURBTYPE', 'CURRENT_STATUS',\n",
       "       'CURRENT_STATUS_DATE', 'FILLERTYPE', 'FILLERWID', 'INSTALL_DATE',\n",
       "       'SW_WIDTH', 'MAINTAINED_BY', 'MATL', 'MODBY', 'MODDTTM', 'OWNERSHIP',\n",
       "       'SIDE', 'SURFTYPE', 'BUILDERCD', 'MAINTBYRDWYSTRUCTYN',\n",
       "       'SWINCOMPLETEYN', 'MULTIPLESURFACEYN', 'GSITYPECD',\n",
       "       'DATE_MVW_LAST_UPDATED', 'PRIMARYDISTRICTCD', 'SECONDARYDISTRICTCD',\n",
       "       'OVERRIDEYN', 'OVERRIDECOMMENT', 'SRTS_SIDEWALK_RANK',\n",
       "       'PRIMARYCROSSSLOPE', 'MINIMUMVARIABLEWIDTH', 'LAST_VERIFY_DATE',\n",
       "       'COLOR', 'OWNERSHIP_DATE', 'NATURE_OF_MAINT_RESP',\n",
       "       'MAINT_FINANCIAL_RESP', 'SW_CATEGORY', 'VARIABLEWIDTHYN',\n",
       "       'MAINTENANCE_GROUP', 'SHAPE_Length', 'geometry'],\n",
       "      dtype='object')"
      ]
     },
     "execution_count": 10,
     "metadata": {},
     "output_type": "execute_result"
    }
   ],
   "source": [
    "ped_gdf.columns"
   ]
  },
  {
   "cell_type": "code",
   "execution_count": 11,
   "id": "41cf446c-3f49-4b5d-bfe3-37d3eee909ca",
   "metadata": {},
   "outputs": [],
   "source": [
    "ped_gdf = ped_gdf['geometry']"
   ]
  },
  {
   "cell_type": "code",
   "execution_count": 22,
   "id": "40d585ce-2f4c-4f32-b211-a540625c7444",
   "metadata": {},
   "outputs": [],
   "source": [
    "ped_gdf.to_file('seattle_sidewalks',driver='GeoJSON')"
   ]
  },
  {
   "cell_type": "code",
   "execution_count": 23,
   "id": "5f959e60-7864-4389-a44a-7596ca8a7d34",
   "metadata": {},
   "outputs": [],
   "source": [
    "parks_gdf.to_file('seattle_parks',driver='GeoJSON')"
   ]
  }
 ],
 "metadata": {
  "kernelspec": {
   "display_name": "Python 3 (ipykernel)",
   "language": "python",
   "name": "python3"
  },
  "language_info": {
   "codemirror_mode": {
    "name": "ipython",
    "version": 3
   },
   "file_extension": ".py",
   "mimetype": "text/x-python",
   "name": "python",
   "nbconvert_exporter": "python",
   "pygments_lexer": "ipython3",
   "version": "3.9.7"
  }
 },
 "nbformat": 4,
 "nbformat_minor": 5
}
